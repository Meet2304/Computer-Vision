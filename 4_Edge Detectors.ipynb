{
 "cells": [
  {
   "cell_type": "markdown",
   "id": "6f190dac",
   "metadata": {},
   "source": [
    "# Edge Detectors"
   ]
  },
  {
   "cell_type": "code",
   "execution_count": 7,
   "id": "f26d1559",
   "metadata": {},
   "outputs": [],
   "source": [
    "import pandas as pd\n",
    "import numpy as np\n",
    "import matplotlib.pyplot as plt\n",
    "import seaborn as sns\n",
    "from PIL import Image"
   ]
  },
  {
   "cell_type": "markdown",
   "id": "adb8a5a9",
   "metadata": {},
   "source": [
    "### Loading in Test Images"
   ]
  },
  {
   "cell_type": "code",
   "execution_count": 8,
   "id": "6e378008",
   "metadata": {},
   "outputs": [],
   "source": [
    "RGB_img = Image.open('./Images/Rocket_Image.jpg')\n",
    "Grayscale_Img = RGB_img.convert('L')"
   ]
  },
  {
   "cell_type": "markdown",
   "id": "b459ea5f",
   "metadata": {},
   "source": [
    "## 1) Laplacian Edge Detector"
   ]
  },
  {
   "cell_type": "markdown",
   "id": "a091ebc3",
   "metadata": {},
   "source": [
    "## 2) Sobel Edge Detector "
   ]
  },
  {
   "cell_type": "markdown",
   "id": "e334f8ba",
   "metadata": {},
   "source": [
    "## 3) Canny Edge Detector"
   ]
  },
  {
   "cell_type": "markdown",
   "id": "d143ad1b",
   "metadata": {},
   "source": [
    "## 4) Laplacian of Gaussian(LoG) Edge Detector"
   ]
  },
  {
   "cell_type": "markdown",
   "id": "8f2d10c3",
   "metadata": {},
   "source": []
  }
 ],
 "metadata": {
  "kernelspec": {
   "display_name": "Python 3",
   "language": "python",
   "name": "python3"
  },
  "language_info": {
   "codemirror_mode": {
    "name": "ipython",
    "version": 3
   },
   "file_extension": ".py",
   "mimetype": "text/x-python",
   "name": "python",
   "nbconvert_exporter": "python",
   "pygments_lexer": "ipython3",
   "version": "3.12.2"
  }
 },
 "nbformat": 4,
 "nbformat_minor": 5
}
